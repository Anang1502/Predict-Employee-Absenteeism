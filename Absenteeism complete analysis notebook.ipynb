{
 "cells": [
  {
   "cell_type": "markdown",
   "metadata": {},
   "source": [
    "Importing Libraries"
   ]
  },
  {
   "cell_type": "code",
   "execution_count": 2,
   "metadata": {},
   "outputs": [],
   "source": [
    "import numpy as np\n",
    "import pandas as pd \n",
    "import matplotlib.pyplot as plt \n",
    "import seaborn as sns \n",
    "sns.set()\n",
    "from sklearn.preprocessing import StandardScaler\n",
    "from sklearn.model_selection import train_test_split\n",
    "from sklearn.linear_model import LogisticRegression\n",
    "import tensorflow as tf \n",
    "from sklearn import metrics\n",
    "import pickle "
   ]
  },
  {
   "cell_type": "markdown",
   "metadata": {},
   "source": [
    "Importing dataset "
   ]
  },
  {
   "cell_type": "code",
   "execution_count": 3,
   "metadata": {},
   "outputs": [],
   "source": [
    "raw_data = pd.read_csv('Absenteeism-data.csv')\n",
    "data = raw_data.copy()"
   ]
  },
  {
   "cell_type": "code",
   "execution_count": 4,
   "metadata": {
    "scrolled": true
   },
   "outputs": [
    {
     "name": "stdout",
     "output_type": "stream",
     "text": [
      "(700, 12)\n",
      "Index(['ID', 'Reason for Absence', 'Date', 'Transportation Expense',\n",
      "       'Distance to Work', 'Age', 'Daily Work Load Average', 'Body Mass Index',\n",
      "       'Education', 'Children', 'Pets', 'Absenteeism Time in Hours'],\n",
      "      dtype='object')\n"
     ]
    }
   ],
   "source": [
    "print(data.shape)\n",
    "print(data.columns)"
   ]
  },
  {
   "cell_type": "markdown",
   "metadata": {},
   "source": [
    " We have 12 columns and 700 rows of data "
   ]
  },
  {
   "cell_type": "markdown",
   "metadata": {},
   "source": [
    "Dropping unwanted ID and age column"
   ]
  },
  {
   "cell_type": "code",
   "execution_count": 5,
   "metadata": {},
   "outputs": [],
   "source": [
    "data = data.drop(['ID'],axis=1)\n",
    "data = data.drop(['Age'],axis=1)"
   ]
  },
  {
   "cell_type": "code",
   "execution_count": 6,
   "metadata": {},
   "outputs": [
    {
     "data": {
      "text/plain": [
       "Reason for Absence           0\n",
       "Date                         0\n",
       "Transportation Expense       0\n",
       "Distance to Work             0\n",
       "Daily Work Load Average      0\n",
       "Body Mass Index              0\n",
       "Education                    0\n",
       "Children                     0\n",
       "Pets                         0\n",
       "Absenteeism Time in Hours    0\n",
       "dtype: int64"
      ]
     },
     "execution_count": 6,
     "metadata": {},
     "output_type": "execute_result"
    }
   ],
   "source": [
    "data.isnull().sum()"
   ]
  },
  {
   "cell_type": "markdown",
   "metadata": {},
   "source": [
    "There is no missing data in the dataset"
   ]
  },
  {
   "cell_type": "code",
   "execution_count": 7,
   "metadata": {},
   "outputs": [
    {
     "data": {
      "text/html": [
       "<div>\n",
       "<style scoped>\n",
       "    .dataframe tbody tr th:only-of-type {\n",
       "        vertical-align: middle;\n",
       "    }\n",
       "\n",
       "    .dataframe tbody tr th {\n",
       "        vertical-align: top;\n",
       "    }\n",
       "\n",
       "    .dataframe thead th {\n",
       "        text-align: right;\n",
       "    }\n",
       "</style>\n",
       "<table border=\"1\" class=\"dataframe\">\n",
       "  <thead>\n",
       "    <tr style=\"text-align: right;\">\n",
       "      <th></th>\n",
       "      <th>Reason for Absence</th>\n",
       "      <th>Transportation Expense</th>\n",
       "      <th>Distance to Work</th>\n",
       "      <th>Daily Work Load Average</th>\n",
       "      <th>Body Mass Index</th>\n",
       "      <th>Education</th>\n",
       "      <th>Children</th>\n",
       "      <th>Pets</th>\n",
       "      <th>Absenteeism Time in Hours</th>\n",
       "    </tr>\n",
       "  </thead>\n",
       "  <tbody>\n",
       "    <tr>\n",
       "      <th>count</th>\n",
       "      <td>700.000000</td>\n",
       "      <td>700.000000</td>\n",
       "      <td>700.000000</td>\n",
       "      <td>700.000000</td>\n",
       "      <td>700.000000</td>\n",
       "      <td>700.000000</td>\n",
       "      <td>700.000000</td>\n",
       "      <td>700.000000</td>\n",
       "      <td>700.000000</td>\n",
       "    </tr>\n",
       "    <tr>\n",
       "      <th>mean</th>\n",
       "      <td>19.411429</td>\n",
       "      <td>222.347143</td>\n",
       "      <td>29.892857</td>\n",
       "      <td>271.801774</td>\n",
       "      <td>26.737143</td>\n",
       "      <td>1.282857</td>\n",
       "      <td>1.021429</td>\n",
       "      <td>0.687143</td>\n",
       "      <td>6.761429</td>\n",
       "    </tr>\n",
       "    <tr>\n",
       "      <th>std</th>\n",
       "      <td>8.356292</td>\n",
       "      <td>66.312960</td>\n",
       "      <td>14.804446</td>\n",
       "      <td>40.021804</td>\n",
       "      <td>4.254701</td>\n",
       "      <td>0.668090</td>\n",
       "      <td>1.112215</td>\n",
       "      <td>1.166095</td>\n",
       "      <td>12.670082</td>\n",
       "    </tr>\n",
       "    <tr>\n",
       "      <th>min</th>\n",
       "      <td>0.000000</td>\n",
       "      <td>118.000000</td>\n",
       "      <td>5.000000</td>\n",
       "      <td>205.917000</td>\n",
       "      <td>19.000000</td>\n",
       "      <td>1.000000</td>\n",
       "      <td>0.000000</td>\n",
       "      <td>0.000000</td>\n",
       "      <td>0.000000</td>\n",
       "    </tr>\n",
       "    <tr>\n",
       "      <th>25%</th>\n",
       "      <td>13.000000</td>\n",
       "      <td>179.000000</td>\n",
       "      <td>16.000000</td>\n",
       "      <td>241.476000</td>\n",
       "      <td>24.000000</td>\n",
       "      <td>1.000000</td>\n",
       "      <td>0.000000</td>\n",
       "      <td>0.000000</td>\n",
       "      <td>2.000000</td>\n",
       "    </tr>\n",
       "    <tr>\n",
       "      <th>50%</th>\n",
       "      <td>23.000000</td>\n",
       "      <td>225.000000</td>\n",
       "      <td>26.000000</td>\n",
       "      <td>264.249000</td>\n",
       "      <td>25.000000</td>\n",
       "      <td>1.000000</td>\n",
       "      <td>1.000000</td>\n",
       "      <td>0.000000</td>\n",
       "      <td>3.000000</td>\n",
       "    </tr>\n",
       "    <tr>\n",
       "      <th>75%</th>\n",
       "      <td>27.000000</td>\n",
       "      <td>260.000000</td>\n",
       "      <td>50.000000</td>\n",
       "      <td>294.217000</td>\n",
       "      <td>31.000000</td>\n",
       "      <td>1.000000</td>\n",
       "      <td>2.000000</td>\n",
       "      <td>1.000000</td>\n",
       "      <td>8.000000</td>\n",
       "    </tr>\n",
       "    <tr>\n",
       "      <th>max</th>\n",
       "      <td>28.000000</td>\n",
       "      <td>388.000000</td>\n",
       "      <td>52.000000</td>\n",
       "      <td>378.884000</td>\n",
       "      <td>38.000000</td>\n",
       "      <td>4.000000</td>\n",
       "      <td>4.000000</td>\n",
       "      <td>8.000000</td>\n",
       "      <td>120.000000</td>\n",
       "    </tr>\n",
       "  </tbody>\n",
       "</table>\n",
       "</div>"
      ],
      "text/plain": [
       "       Reason for Absence  Transportation Expense  Distance to Work  \\\n",
       "count          700.000000              700.000000        700.000000   \n",
       "mean            19.411429              222.347143         29.892857   \n",
       "std              8.356292               66.312960         14.804446   \n",
       "min              0.000000              118.000000          5.000000   \n",
       "25%             13.000000              179.000000         16.000000   \n",
       "50%             23.000000              225.000000         26.000000   \n",
       "75%             27.000000              260.000000         50.000000   \n",
       "max             28.000000              388.000000         52.000000   \n",
       "\n",
       "       Daily Work Load Average  Body Mass Index   Education    Children  \\\n",
       "count               700.000000       700.000000  700.000000  700.000000   \n",
       "mean                271.801774        26.737143    1.282857    1.021429   \n",
       "std                  40.021804         4.254701    0.668090    1.112215   \n",
       "min                 205.917000        19.000000    1.000000    0.000000   \n",
       "25%                 241.476000        24.000000    1.000000    0.000000   \n",
       "50%                 264.249000        25.000000    1.000000    1.000000   \n",
       "75%                 294.217000        31.000000    1.000000    2.000000   \n",
       "max                 378.884000        38.000000    4.000000    4.000000   \n",
       "\n",
       "             Pets  Absenteeism Time in Hours  \n",
       "count  700.000000                 700.000000  \n",
       "mean     0.687143                   6.761429  \n",
       "std      1.166095                  12.670082  \n",
       "min      0.000000                   0.000000  \n",
       "25%      0.000000                   2.000000  \n",
       "50%      0.000000                   3.000000  \n",
       "75%      1.000000                   8.000000  \n",
       "max      8.000000                 120.000000  "
      ]
     },
     "execution_count": 7,
     "metadata": {},
     "output_type": "execute_result"
    }
   ],
   "source": [
    "data.describe()"
   ]
  },
  {
   "cell_type": "code",
   "execution_count": 9,
   "metadata": {
    "scrolled": true
   },
   "outputs": [
    {
     "data": {
      "text/html": [
       "<div>\n",
       "<style scoped>\n",
       "    .dataframe tbody tr th:only-of-type {\n",
       "        vertical-align: middle;\n",
       "    }\n",
       "\n",
       "    .dataframe tbody tr th {\n",
       "        vertical-align: top;\n",
       "    }\n",
       "\n",
       "    .dataframe thead th {\n",
       "        text-align: right;\n",
       "    }\n",
       "</style>\n",
       "<table border=\"1\" class=\"dataframe\">\n",
       "  <thead>\n",
       "    <tr style=\"text-align: right;\">\n",
       "      <th></th>\n",
       "      <th>Reason for Absence</th>\n",
       "      <th>Date</th>\n",
       "      <th>Transportation Expense</th>\n",
       "      <th>Distance to Work</th>\n",
       "      <th>Daily Work Load Average</th>\n",
       "      <th>Body Mass Index</th>\n",
       "      <th>Education</th>\n",
       "      <th>Children</th>\n",
       "      <th>Pets</th>\n",
       "      <th>Absenteeism Time in Hours</th>\n",
       "    </tr>\n",
       "  </thead>\n",
       "  <tbody>\n",
       "    <tr>\n",
       "      <th>0</th>\n",
       "      <td>26</td>\n",
       "      <td>07/07/2015</td>\n",
       "      <td>289</td>\n",
       "      <td>36</td>\n",
       "      <td>239.554</td>\n",
       "      <td>30</td>\n",
       "      <td>1</td>\n",
       "      <td>2</td>\n",
       "      <td>1</td>\n",
       "      <td>4</td>\n",
       "    </tr>\n",
       "    <tr>\n",
       "      <th>1</th>\n",
       "      <td>0</td>\n",
       "      <td>14/07/2015</td>\n",
       "      <td>118</td>\n",
       "      <td>13</td>\n",
       "      <td>239.554</td>\n",
       "      <td>31</td>\n",
       "      <td>1</td>\n",
       "      <td>1</td>\n",
       "      <td>0</td>\n",
       "      <td>0</td>\n",
       "    </tr>\n",
       "    <tr>\n",
       "      <th>2</th>\n",
       "      <td>23</td>\n",
       "      <td>15/07/2015</td>\n",
       "      <td>179</td>\n",
       "      <td>51</td>\n",
       "      <td>239.554</td>\n",
       "      <td>31</td>\n",
       "      <td>1</td>\n",
       "      <td>0</td>\n",
       "      <td>0</td>\n",
       "      <td>2</td>\n",
       "    </tr>\n",
       "    <tr>\n",
       "      <th>3</th>\n",
       "      <td>7</td>\n",
       "      <td>16/07/2015</td>\n",
       "      <td>279</td>\n",
       "      <td>5</td>\n",
       "      <td>239.554</td>\n",
       "      <td>24</td>\n",
       "      <td>1</td>\n",
       "      <td>2</td>\n",
       "      <td>0</td>\n",
       "      <td>4</td>\n",
       "    </tr>\n",
       "    <tr>\n",
       "      <th>4</th>\n",
       "      <td>23</td>\n",
       "      <td>23/07/2015</td>\n",
       "      <td>289</td>\n",
       "      <td>36</td>\n",
       "      <td>239.554</td>\n",
       "      <td>30</td>\n",
       "      <td>1</td>\n",
       "      <td>2</td>\n",
       "      <td>1</td>\n",
       "      <td>2</td>\n",
       "    </tr>\n",
       "  </tbody>\n",
       "</table>\n",
       "</div>"
      ],
      "text/plain": [
       "   Reason for Absence        Date  Transportation Expense  Distance to Work  \\\n",
       "0                  26  07/07/2015                     289                36   \n",
       "1                   0  14/07/2015                     118                13   \n",
       "2                  23  15/07/2015                     179                51   \n",
       "3                   7  16/07/2015                     279                 5   \n",
       "4                  23  23/07/2015                     289                36   \n",
       "\n",
       "   Daily Work Load Average  Body Mass Index  Education  Children  Pets  \\\n",
       "0                  239.554               30          1         2     1   \n",
       "1                  239.554               31          1         1     0   \n",
       "2                  239.554               31          1         0     0   \n",
       "3                  239.554               24          1         2     0   \n",
       "4                  239.554               30          1         2     1   \n",
       "\n",
       "   Absenteeism Time in Hours  \n",
       "0                          4  \n",
       "1                          0  \n",
       "2                          2  \n",
       "3                          4  \n",
       "4                          2  "
      ]
     },
     "execution_count": 9,
     "metadata": {},
     "output_type": "execute_result"
    }
   ],
   "source": [
    "data.head()"
   ]
  },
  {
   "cell_type": "markdown",
   "metadata": {},
   "source": [
    "## Modifying Reason column"
   ]
  },
  {
   "cell_type": "code",
   "execution_count": 10,
   "metadata": {},
   "outputs": [
    {
     "data": {
      "text/plain": [
       "array([26,  0, 23,  7, 22, 19,  1, 11, 14, 21, 10, 13, 28, 18, 25, 24,  6,\n",
       "       27, 17,  8, 12,  5,  9, 15,  4,  3,  2, 16], dtype=int64)"
      ]
     },
     "execution_count": 10,
     "metadata": {},
     "output_type": "execute_result"
    }
   ],
   "source": [
    "data['Reason for Absence'].unique()"
   ]
  },
  {
   "cell_type": "markdown",
   "metadata": {},
   "source": [
    "Creating dummy variables for reason column\n",
    "\n",
    "Reducing the number of dummy variables by combining variables with diseases in same category"
   ]
  },
  {
   "cell_type": "code",
   "execution_count": 11,
   "metadata": {},
   "outputs": [],
   "source": [
    "reason_column = pd.get_dummies(data['Reason for Absence'], drop_first=True)\n",
    "\n",
    "reason_type_1 = reason_column.loc[:,1:14].max(axis=1)\n",
    "reason_type_2 = reason_column.loc[:,15:17].max(axis=1)\n",
    "reason_type_3 = reason_column.loc[:,18:21].max(axis=1)\n",
    "reason_type_4 = reason_column.loc[:,22:28].max(axis=1)"
   ]
  },
  {
   "cell_type": "markdown",
   "metadata": {},
   "source": [
    "Adding the four reason types in our dataset and dropping the orignal reason column as it may introduce multicollinearity"
   ]
  },
  {
   "cell_type": "code",
   "execution_count": 12,
   "metadata": {},
   "outputs": [],
   "source": [
    "data = pd.concat([data,reason_type_1,reason_type_2,reason_type_3,reason_type_4],axis=1)\n",
    "\n",
    "data = data.drop(['Reason for Absence'],axis=1)"
   ]
  },
  {
   "cell_type": "markdown",
   "metadata": {},
   "source": [
    "Changing the names of the added columns to the relevant ones so that it is easy to identify them "
   ]
  },
  {
   "cell_type": "code",
   "execution_count": 13,
   "metadata": {},
   "outputs": [],
   "source": [
    "cols = ['Date', 'Transportation Expense', 'Distance to Work',\n",
    "       'Daily Work Load Average', 'Body Mass Index', 'Education',\n",
    "       'Children', 'Pets', 'Absenteeism Time in Hours', 'reason_type_1', 'reason_type_2', 'reason_type_3', 'reason_type_4'] \n",
    "\n",
    "data.columns = cols"
   ]
  },
  {
   "cell_type": "markdown",
   "metadata": {},
   "source": [
    "Reorder the Column names"
   ]
  },
  {
   "cell_type": "code",
   "execution_count": 14,
   "metadata": {},
   "outputs": [],
   "source": [
    "reorder_columns = ['reason_type_1', 'reason_type_2', 'reason_type_3', 'reason_type_4',\n",
    "                   'Date', 'Transportation Expense', 'Distance to Work','Daily Work Load Average', \n",
    "                   'Body Mass Index', 'Education','Children', 'Pets', 'Absenteeism Time in Hours'] \n",
    "\n",
    "data = data[reorder_columns]"
   ]
  },
  {
   "cell_type": "code",
   "execution_count": 15,
   "metadata": {},
   "outputs": [
    {
     "data": {
      "text/html": [
       "<div>\n",
       "<style scoped>\n",
       "    .dataframe tbody tr th:only-of-type {\n",
       "        vertical-align: middle;\n",
       "    }\n",
       "\n",
       "    .dataframe tbody tr th {\n",
       "        vertical-align: top;\n",
       "    }\n",
       "\n",
       "    .dataframe thead th {\n",
       "        text-align: right;\n",
       "    }\n",
       "</style>\n",
       "<table border=\"1\" class=\"dataframe\">\n",
       "  <thead>\n",
       "    <tr style=\"text-align: right;\">\n",
       "      <th></th>\n",
       "      <th>reason_type_1</th>\n",
       "      <th>reason_type_2</th>\n",
       "      <th>reason_type_3</th>\n",
       "      <th>reason_type_4</th>\n",
       "      <th>Date</th>\n",
       "      <th>Transportation Expense</th>\n",
       "      <th>Distance to Work</th>\n",
       "      <th>Daily Work Load Average</th>\n",
       "      <th>Body Mass Index</th>\n",
       "      <th>Education</th>\n",
       "      <th>Children</th>\n",
       "      <th>Pets</th>\n",
       "      <th>Absenteeism Time in Hours</th>\n",
       "    </tr>\n",
       "  </thead>\n",
       "  <tbody>\n",
       "    <tr>\n",
       "      <th>0</th>\n",
       "      <td>0</td>\n",
       "      <td>0</td>\n",
       "      <td>0</td>\n",
       "      <td>1</td>\n",
       "      <td>07/07/2015</td>\n",
       "      <td>289</td>\n",
       "      <td>36</td>\n",
       "      <td>239.554</td>\n",
       "      <td>30</td>\n",
       "      <td>1</td>\n",
       "      <td>2</td>\n",
       "      <td>1</td>\n",
       "      <td>4</td>\n",
       "    </tr>\n",
       "    <tr>\n",
       "      <th>1</th>\n",
       "      <td>0</td>\n",
       "      <td>0</td>\n",
       "      <td>0</td>\n",
       "      <td>0</td>\n",
       "      <td>14/07/2015</td>\n",
       "      <td>118</td>\n",
       "      <td>13</td>\n",
       "      <td>239.554</td>\n",
       "      <td>31</td>\n",
       "      <td>1</td>\n",
       "      <td>1</td>\n",
       "      <td>0</td>\n",
       "      <td>0</td>\n",
       "    </tr>\n",
       "    <tr>\n",
       "      <th>2</th>\n",
       "      <td>0</td>\n",
       "      <td>0</td>\n",
       "      <td>0</td>\n",
       "      <td>1</td>\n",
       "      <td>15/07/2015</td>\n",
       "      <td>179</td>\n",
       "      <td>51</td>\n",
       "      <td>239.554</td>\n",
       "      <td>31</td>\n",
       "      <td>1</td>\n",
       "      <td>0</td>\n",
       "      <td>0</td>\n",
       "      <td>2</td>\n",
       "    </tr>\n",
       "    <tr>\n",
       "      <th>3</th>\n",
       "      <td>1</td>\n",
       "      <td>0</td>\n",
       "      <td>0</td>\n",
       "      <td>0</td>\n",
       "      <td>16/07/2015</td>\n",
       "      <td>279</td>\n",
       "      <td>5</td>\n",
       "      <td>239.554</td>\n",
       "      <td>24</td>\n",
       "      <td>1</td>\n",
       "      <td>2</td>\n",
       "      <td>0</td>\n",
       "      <td>4</td>\n",
       "    </tr>\n",
       "    <tr>\n",
       "      <th>4</th>\n",
       "      <td>0</td>\n",
       "      <td>0</td>\n",
       "      <td>0</td>\n",
       "      <td>1</td>\n",
       "      <td>23/07/2015</td>\n",
       "      <td>289</td>\n",
       "      <td>36</td>\n",
       "      <td>239.554</td>\n",
       "      <td>30</td>\n",
       "      <td>1</td>\n",
       "      <td>2</td>\n",
       "      <td>1</td>\n",
       "      <td>2</td>\n",
       "    </tr>\n",
       "  </tbody>\n",
       "</table>\n",
       "</div>"
      ],
      "text/plain": [
       "   reason_type_1  reason_type_2  reason_type_3  reason_type_4        Date  \\\n",
       "0              0              0              0              1  07/07/2015   \n",
       "1              0              0              0              0  14/07/2015   \n",
       "2              0              0              0              1  15/07/2015   \n",
       "3              1              0              0              0  16/07/2015   \n",
       "4              0              0              0              1  23/07/2015   \n",
       "\n",
       "   Transportation Expense  Distance to Work  Daily Work Load Average  \\\n",
       "0                     289                36                  239.554   \n",
       "1                     118                13                  239.554   \n",
       "2                     179                51                  239.554   \n",
       "3                     279                 5                  239.554   \n",
       "4                     289                36                  239.554   \n",
       "\n",
       "   Body Mass Index  Education  Children  Pets  Absenteeism Time in Hours  \n",
       "0               30          1         2     1                          4  \n",
       "1               31          1         1     0                          0  \n",
       "2               31          1         0     0                          2  \n",
       "3               24          1         2     0                          4  \n",
       "4               30          1         2     1                          2  "
      ]
     },
     "execution_count": 15,
     "metadata": {},
     "output_type": "execute_result"
    }
   ],
   "source": [
    "data.head()"
   ]
  },
  {
   "cell_type": "markdown",
   "metadata": {},
   "source": [
    "Creating a checkpoint after modifying reason column "
   ]
  },
  {
   "cell_type": "code",
   "execution_count": 16,
   "metadata": {},
   "outputs": [],
   "source": [
    "df_checkpoint = data.copy()"
   ]
  },
  {
   "cell_type": "markdown",
   "metadata": {},
   "source": [
    "## Modifying Date column "
   ]
  },
  {
   "cell_type": "markdown",
   "metadata": {},
   "source": [
    "Changing Date column to time stamp for further processing"
   ]
  },
  {
   "cell_type": "code",
   "execution_count": 17,
   "metadata": {},
   "outputs": [],
   "source": [
    "data['Date'] = pd.to_datetime(data['Date'], format='%d/%m/%Y')"
   ]
  },
  {
   "cell_type": "markdown",
   "metadata": {},
   "source": [
    "Extracting the months from the time stamp column and adding a new month column to the dataframe"
   ]
  },
  {
   "cell_type": "code",
   "execution_count": 18,
   "metadata": {},
   "outputs": [],
   "source": [
    "month = []\n",
    "\n",
    "for i in range (data.shape[0]):\n",
    "    month.append(data['Date'][i].month)\n",
    "    \n",
    "data['Month'] = month"
   ]
  },
  {
   "cell_type": "markdown",
   "metadata": {},
   "source": [
    "Extracting the Weekdays from the time stamp column and adding a new Weekday column to the dataframe"
   ]
  },
  {
   "cell_type": "code",
   "execution_count": 19,
   "metadata": {},
   "outputs": [],
   "source": [
    "weekday = []\n",
    "\n",
    "for i in range (data.shape[0]):\n",
    "    weekday.append(data['Date'][i].weekday())\n",
    "    \n",
    "data['Weekday'] = weekday"
   ]
  },
  {
   "cell_type": "code",
   "execution_count": 20,
   "metadata": {},
   "outputs": [],
   "source": [
    "## Dropping the date column from the dataframe\n",
    "\n",
    "data = data.drop(['Date'],axis=1)"
   ]
  },
  {
   "cell_type": "code",
   "execution_count": 21,
   "metadata": {},
   "outputs": [],
   "source": [
    "## Reordering the columns so that month and date columns coms where date used to be\n",
    "\n",
    "cols_names = ['reason_type_1', 'reason_type_2', 'reason_type_3', 'reason_type_4', 'Month', 'Weekday',\n",
    "       'Transportation Expense', 'Distance to Work', 'Daily Work Load Average',\n",
    "       'Body Mass Index', 'Education', 'Children', 'Pets',\n",
    "       'Absenteeism Time in Hours']\n",
    "\n",
    "data = data[cols_names]"
   ]
  },
  {
   "cell_type": "markdown",
   "metadata": {},
   "source": [
    "Cresting Checkpoint after modifying reason and date column "
   ]
  },
  {
   "cell_type": "code",
   "execution_count": 9,
   "metadata": {},
   "outputs": [],
   "source": [
    "data_reason_date_mod = data.copy()"
   ]
  },
  {
   "cell_type": "markdown",
   "metadata": {},
   "source": [
    "## Modifying the Education column "
   ]
  },
  {
   "cell_type": "markdown",
   "metadata": {},
   "source": [
    "The Education column have 4 distinct values going from high school qualified up to the post graduate or even higher\n",
    "\n",
    "Since most of the people have high school education (1) only so its better to group them as one and the rest as remaining "
   ]
  },
  {
   "cell_type": "code",
   "execution_count": 23,
   "metadata": {},
   "outputs": [
    {
     "name": "stdout",
     "output_type": "stream",
     "text": [
      "1    583\n",
      "3     73\n",
      "2     40\n",
      "4      4\n",
      "Name: Education, dtype: int64\n",
      "0    583\n",
      "1    117\n",
      "Name: Education, dtype: int64\n"
     ]
    }
   ],
   "source": [
    "print(data['Education'].value_counts())\n",
    "\n",
    "data['Education'] = data['Education'].map({1:0, 2:1, 3:1, 4:1})\n",
    "\n",
    "print(data['Education'].value_counts())"
   ]
  },
  {
   "cell_type": "markdown",
   "metadata": {},
   "source": [
    "Final Check Point and saving the preprocessed dataset as a .csv file "
   ]
  },
  {
   "cell_type": "code",
   "execution_count": 24,
   "metadata": {},
   "outputs": [],
   "source": [
    "df_preprocessed = data.copy()\n",
    "\n",
    "df_preprocessed.to_csv('Absenteeism_preprocessed.csv',index=False)"
   ]
  },
  {
   "cell_type": "markdown",
   "metadata": {},
   "source": [
    "## Lets scale and split the data first"
   ]
  },
  {
   "cell_type": "code",
   "execution_count": 25,
   "metadata": {},
   "outputs": [],
   "source": [
    "data_preprocessed = pd.read_csv('Absenteeism_preprocessed.csv')"
   ]
  },
  {
   "cell_type": "markdown",
   "metadata": {},
   "source": [
    "Defining the targets based on the median of the absenteeism data. \n",
    "\n",
    "**NOTE-** Median is a good parameter as it devides the data into almost 2 equal parts"
   ]
  },
  {
   "cell_type": "code",
   "execution_count": 26,
   "metadata": {},
   "outputs": [],
   "source": [
    "absent_time_median = data_preprocessed['Absenteeism Time in Hours'].median()\n",
    "\n",
    "targets = []\n",
    "\n",
    "for i in range (data_preprocessed.shape[0]):\n",
    "    if data_preprocessed['Absenteeism Time in Hours'][i] <= absent_time_median :\n",
    "        targets.append(0)\n",
    "    else:\n",
    "        targets.append(1)"
   ]
  },
  {
   "cell_type": "markdown",
   "metadata": {},
   "source": [
    "Adding column 'Excessive Absenteeism' in the dataframe which is equal to the targets "
   ]
  },
  {
   "cell_type": "code",
   "execution_count": 27,
   "metadata": {},
   "outputs": [],
   "source": [
    "data_preprocessed['Excessive Absenteeism'] = targets\n",
    "targets = data_preprocessed['Excessive Absenteeism']"
   ]
  },
  {
   "cell_type": "code",
   "execution_count": 28,
   "metadata": {},
   "outputs": [],
   "source": [
    "## Dropping 'Absenteeism Time in Hours' column from the dataframe \n",
    "\n",
    "data_preprocessed = data_preprocessed.drop(['Absenteeism Time in Hours'], axis=1)"
   ]
  },
  {
   "cell_type": "markdown",
   "metadata": {},
   "source": [
    "Defining the inputs and targets for the machine learning part "
   ]
  },
  {
   "cell_type": "code",
   "execution_count": 29,
   "metadata": {},
   "outputs": [],
   "source": [
    "unscaled_inputs = data_preprocessed.iloc[:, :-1]\n",
    "targets = data_preprocessed['Excessive Absenteeism']"
   ]
  },
  {
   "cell_type": "markdown",
   "metadata": {},
   "source": [
    "Standarizing the data "
   ]
  },
  {
   "cell_type": "code",
   "execution_count": 30,
   "metadata": {},
   "outputs": [],
   "source": [
    "from sklearn.preprocessing import StandardScaler\n",
    "\n",
    "scaler = StandardScaler()\n",
    "scaler.fit(unscaled_inputs)\n",
    "scaled_inputs = scaler.transform(unscaled_inputs)"
   ]
  },
  {
   "cell_type": "markdown",
   "metadata": {},
   "source": [
    "Splitting the data using train_test_split"
   ]
  },
  {
   "cell_type": "code",
   "execution_count": 31,
   "metadata": {},
   "outputs": [],
   "source": [
    "from sklearn.model_selection import train_test_split \n",
    "\n",
    "x_train, x_test, y_train, y_test = train_test_split(scaled_inputs, targets, test_size=0.2, random_state=20)"
   ]
  },
  {
   "cell_type": "code",
   "execution_count": 32,
   "metadata": {},
   "outputs": [
    {
     "name": "stdout",
     "output_type": "stream",
     "text": [
      "(560, 13) (560,)\n",
      "(140, 13) (140,)\n"
     ]
    }
   ],
   "source": [
    "print(x_train.shape, y_train.shape)\n",
    "print(x_test.shape, y_test.shape)"
   ]
  },
  {
   "cell_type": "markdown",
   "metadata": {},
   "source": [
    "## Logistic Regression With SKlearn"
   ]
  },
  {
   "cell_type": "code",
   "execution_count": 33,
   "metadata": {},
   "outputs": [
    {
     "data": {
      "text/plain": [
       "LogisticRegression()"
      ]
     },
     "execution_count": 33,
     "metadata": {},
     "output_type": "execute_result"
    }
   ],
   "source": [
    "from sklearn.linear_model import LogisticRegression\n",
    "from sklearn import metrics\n",
    "\n",
    "reg = LogisticRegression()\n",
    "reg.fit(x_train, y_train)"
   ]
  },
  {
   "cell_type": "code",
   "execution_count": 34,
   "metadata": {},
   "outputs": [
    {
     "data": {
      "text/plain": [
       "0.775"
      ]
     },
     "execution_count": 34,
     "metadata": {},
     "output_type": "execute_result"
    }
   ],
   "source": [
    "reg.score(x_train,y_train)"
   ]
  },
  {
   "cell_type": "markdown",
   "metadata": {},
   "source": [
    "Creating the Summary table with Feature names and intercepts"
   ]
  },
  {
   "cell_type": "code",
   "execution_count": 35,
   "metadata": {},
   "outputs": [
    {
     "data": {
      "text/html": [
       "<div>\n",
       "<style scoped>\n",
       "    .dataframe tbody tr th:only-of-type {\n",
       "        vertical-align: middle;\n",
       "    }\n",
       "\n",
       "    .dataframe tbody tr th {\n",
       "        vertical-align: top;\n",
       "    }\n",
       "\n",
       "    .dataframe thead th {\n",
       "        text-align: right;\n",
       "    }\n",
       "</style>\n",
       "<table border=\"1\" class=\"dataframe\">\n",
       "  <thead>\n",
       "    <tr style=\"text-align: right;\">\n",
       "      <th></th>\n",
       "      <th>Feature Names</th>\n",
       "      <th>intercepts</th>\n",
       "    </tr>\n",
       "  </thead>\n",
       "  <tbody>\n",
       "    <tr>\n",
       "      <th>0</th>\n",
       "      <td>reason_type_1</td>\n",
       "      <td>2.05558</td>\n",
       "    </tr>\n",
       "    <tr>\n",
       "      <th>1</th>\n",
       "      <td>reason_type_2</td>\n",
       "      <td>0.32201</td>\n",
       "    </tr>\n",
       "    <tr>\n",
       "      <th>2</th>\n",
       "      <td>reason_type_3</td>\n",
       "      <td>1.54297</td>\n",
       "    </tr>\n",
       "    <tr>\n",
       "      <th>3</th>\n",
       "      <td>reason_type_4</td>\n",
       "      <td>1.32257</td>\n",
       "    </tr>\n",
       "    <tr>\n",
       "      <th>4</th>\n",
       "      <td>Month</td>\n",
       "      <td>0.193569</td>\n",
       "    </tr>\n",
       "    <tr>\n",
       "      <th>5</th>\n",
       "      <td>Weekday</td>\n",
       "      <td>-0.0832674</td>\n",
       "    </tr>\n",
       "    <tr>\n",
       "      <th>6</th>\n",
       "      <td>Transportation Expense</td>\n",
       "      <td>0.725748</td>\n",
       "    </tr>\n",
       "    <tr>\n",
       "      <th>7</th>\n",
       "      <td>Distance to Work</td>\n",
       "      <td>-0.00922534</td>\n",
       "    </tr>\n",
       "    <tr>\n",
       "      <th>8</th>\n",
       "      <td>Daily Work Load Average</td>\n",
       "      <td>-0.00537205</td>\n",
       "    </tr>\n",
       "    <tr>\n",
       "      <th>9</th>\n",
       "      <td>Body Mass Index</td>\n",
       "      <td>0.213681</td>\n",
       "    </tr>\n",
       "    <tr>\n",
       "      <th>10</th>\n",
       "      <td>Education</td>\n",
       "      <td>-0.122122</td>\n",
       "    </tr>\n",
       "    <tr>\n",
       "      <th>11</th>\n",
       "      <td>Children</td>\n",
       "      <td>0.344023</td>\n",
       "    </tr>\n",
       "    <tr>\n",
       "      <th>12</th>\n",
       "      <td>Pets</td>\n",
       "      <td>-0.30083</td>\n",
       "    </tr>\n",
       "    <tr>\n",
       "      <th>13</th>\n",
       "      <td>intercept</td>\n",
       "      <td>[-0.22513637221800092]</td>\n",
       "    </tr>\n",
       "  </tbody>\n",
       "</table>\n",
       "</div>"
      ],
      "text/plain": [
       "              Feature Names              intercepts\n",
       "0             reason_type_1                 2.05558\n",
       "1             reason_type_2                 0.32201\n",
       "2             reason_type_3                 1.54297\n",
       "3             reason_type_4                 1.32257\n",
       "4                     Month                0.193569\n",
       "5                   Weekday              -0.0832674\n",
       "6    Transportation Expense                0.725748\n",
       "7          Distance to Work             -0.00922534\n",
       "8   Daily Work Load Average             -0.00537205\n",
       "9           Body Mass Index                0.213681\n",
       "10                Education               -0.122122\n",
       "11                 Children                0.344023\n",
       "12                     Pets                -0.30083\n",
       "13                intercept  [-0.22513637221800092]"
      ]
     },
     "execution_count": 35,
     "metadata": {},
     "output_type": "execute_result"
    }
   ],
   "source": [
    "features_names = unscaled_inputs.columns.values\n",
    "intercept = reg.intercept_\n",
    "\n",
    "summary_table = pd.DataFrame(columns = ['Feature Names'], data=features_names)\n",
    "summary_table['intercepts'] = np.transpose(reg.coef_)\n",
    "summary_table.append({'Feature Names':'intercept', 'intercepts':np.transpose(reg.intercept_)}, ignore_index=True)"
   ]
  },
  {
   "cell_type": "markdown",
   "metadata": {},
   "source": [
    "calculating the odds ratio "
   ]
  },
  {
   "cell_type": "code",
   "execution_count": 36,
   "metadata": {},
   "outputs": [
    {
     "data": {
      "text/html": [
       "<div>\n",
       "<style scoped>\n",
       "    .dataframe tbody tr th:only-of-type {\n",
       "        vertical-align: middle;\n",
       "    }\n",
       "\n",
       "    .dataframe tbody tr th {\n",
       "        vertical-align: top;\n",
       "    }\n",
       "\n",
       "    .dataframe thead th {\n",
       "        text-align: right;\n",
       "    }\n",
       "</style>\n",
       "<table border=\"1\" class=\"dataframe\">\n",
       "  <thead>\n",
       "    <tr style=\"text-align: right;\">\n",
       "      <th></th>\n",
       "      <th>Feature Names</th>\n",
       "      <th>intercepts</th>\n",
       "      <th>odds Ratio</th>\n",
       "    </tr>\n",
       "  </thead>\n",
       "  <tbody>\n",
       "    <tr>\n",
       "      <th>0</th>\n",
       "      <td>reason_type_1</td>\n",
       "      <td>2.055582</td>\n",
       "      <td>7.811383</td>\n",
       "    </tr>\n",
       "    <tr>\n",
       "      <th>2</th>\n",
       "      <td>reason_type_3</td>\n",
       "      <td>1.542973</td>\n",
       "      <td>4.678477</td>\n",
       "    </tr>\n",
       "    <tr>\n",
       "      <th>3</th>\n",
       "      <td>reason_type_4</td>\n",
       "      <td>1.322569</td>\n",
       "      <td>3.753050</td>\n",
       "    </tr>\n",
       "    <tr>\n",
       "      <th>6</th>\n",
       "      <td>Transportation Expense</td>\n",
       "      <td>0.725748</td>\n",
       "      <td>2.066277</td>\n",
       "    </tr>\n",
       "    <tr>\n",
       "      <th>11</th>\n",
       "      <td>Children</td>\n",
       "      <td>0.344023</td>\n",
       "      <td>1.410611</td>\n",
       "    </tr>\n",
       "    <tr>\n",
       "      <th>1</th>\n",
       "      <td>reason_type_2</td>\n",
       "      <td>0.322010</td>\n",
       "      <td>1.379899</td>\n",
       "    </tr>\n",
       "    <tr>\n",
       "      <th>9</th>\n",
       "      <td>Body Mass Index</td>\n",
       "      <td>0.213681</td>\n",
       "      <td>1.238228</td>\n",
       "    </tr>\n",
       "    <tr>\n",
       "      <th>4</th>\n",
       "      <td>Month</td>\n",
       "      <td>0.193569</td>\n",
       "      <td>1.213573</td>\n",
       "    </tr>\n",
       "    <tr>\n",
       "      <th>8</th>\n",
       "      <td>Daily Work Load Average</td>\n",
       "      <td>-0.005372</td>\n",
       "      <td>0.994642</td>\n",
       "    </tr>\n",
       "    <tr>\n",
       "      <th>7</th>\n",
       "      <td>Distance to Work</td>\n",
       "      <td>-0.009225</td>\n",
       "      <td>0.990817</td>\n",
       "    </tr>\n",
       "    <tr>\n",
       "      <th>5</th>\n",
       "      <td>Weekday</td>\n",
       "      <td>-0.083267</td>\n",
       "      <td>0.920105</td>\n",
       "    </tr>\n",
       "    <tr>\n",
       "      <th>10</th>\n",
       "      <td>Education</td>\n",
       "      <td>-0.122122</td>\n",
       "      <td>0.885041</td>\n",
       "    </tr>\n",
       "    <tr>\n",
       "      <th>12</th>\n",
       "      <td>Pets</td>\n",
       "      <td>-0.300830</td>\n",
       "      <td>0.740203</td>\n",
       "    </tr>\n",
       "  </tbody>\n",
       "</table>\n",
       "</div>"
      ],
      "text/plain": [
       "              Feature Names  intercepts  odds Ratio\n",
       "0             reason_type_1    2.055582    7.811383\n",
       "2             reason_type_3    1.542973    4.678477\n",
       "3             reason_type_4    1.322569    3.753050\n",
       "6    Transportation Expense    0.725748    2.066277\n",
       "11                 Children    0.344023    1.410611\n",
       "1             reason_type_2    0.322010    1.379899\n",
       "9           Body Mass Index    0.213681    1.238228\n",
       "4                     Month    0.193569    1.213573\n",
       "8   Daily Work Load Average   -0.005372    0.994642\n",
       "7          Distance to Work   -0.009225    0.990817\n",
       "5                   Weekday   -0.083267    0.920105\n",
       "10                Education   -0.122122    0.885041\n",
       "12                     Pets   -0.300830    0.740203"
      ]
     },
     "execution_count": 36,
     "metadata": {},
     "output_type": "execute_result"
    }
   ],
   "source": [
    "summary_table['odds Ratio'] = np.exp(summary_table['intercepts'])\n",
    "summary_table.sort_values('odds Ratio',ascending = False)"
   ]
  },
  {
   "cell_type": "markdown",
   "metadata": {},
   "source": [
    "## Testing the model"
   ]
  },
  {
   "cell_type": "code",
   "execution_count": 37,
   "metadata": {},
   "outputs": [
    {
     "data": {
      "text/plain": [
       "0.7071428571428572"
      ]
     },
     "execution_count": 37,
     "metadata": {},
     "output_type": "execute_result"
    }
   ],
   "source": [
    "## Checking the accuracy of model in case of test data\n",
    "\n",
    "reg.score(x_test,y_test)"
   ]
  },
  {
   "cell_type": "code",
   "execution_count": 38,
   "metadata": {},
   "outputs": [
    {
     "data": {
      "text/plain": [
       "0.7071428571428572"
      ]
     },
     "execution_count": 38,
     "metadata": {},
     "output_type": "execute_result"
    }
   ],
   "source": [
    "## Cheking the output of the model \n",
    "## checking the accuracy of the model manually\n",
    "\n",
    "model_output = reg.predict(x_test)\n",
    "np.sum(model_output==y_test) / y_test.shape[0]"
   ]
  },
  {
   "cell_type": "code",
   "execution_count": 39,
   "metadata": {},
   "outputs": [
    {
     "data": {
      "text/plain": [
       "array([[0.74146157, 0.25853843],\n",
       "       [0.5445401 , 0.4554599 ],\n",
       "       [0.38616124, 0.61383876],\n",
       "       [0.8160007 , 0.1839993 ],\n",
       "       [0.06129188, 0.93870812],\n",
       "       [0.31296195, 0.68703805],\n",
       "       [0.31851423, 0.68148577],\n",
       "       [0.07220814, 0.92779186],\n",
       "       [0.83125527, 0.16874473],\n",
       "       [0.76100144, 0.23899856],\n",
       "       [0.48146841, 0.51853159],\n",
       "       [0.17978915, 0.82021085],\n",
       "       [0.04876915, 0.95123085],\n",
       "       [0.73214144, 0.26785856],\n",
       "       [0.13081363, 0.86918637],\n",
       "       [0.59623387, 0.40376613],\n",
       "       [0.54985654, 0.45014346],\n",
       "       [0.58212355, 0.41787645],\n",
       "       [0.23177289, 0.76822711],\n",
       "       [0.03074164, 0.96925836],\n",
       "       [0.72815912, 0.27184088],\n",
       "       [0.80739885, 0.19260115],\n",
       "       [0.39488063, 0.60511937],\n",
       "       [0.42207322, 0.57792678],\n",
       "       [0.21845725, 0.78154275],\n",
       "       [0.79042404, 0.20957596],\n",
       "       [0.45563249, 0.54436751],\n",
       "       [0.88874886, 0.11125114],\n",
       "       [0.14059648, 0.85940352],\n",
       "       [0.79849418, 0.20150582],\n",
       "       [0.56942997, 0.43057003],\n",
       "       [0.3374802 , 0.6625198 ],\n",
       "       [0.30586857, 0.69413143],\n",
       "       [0.45418301, 0.54581699],\n",
       "       [0.80739885, 0.19260115],\n",
       "       [0.50770315, 0.49229685],\n",
       "       [0.82249265, 0.17750735],\n",
       "       [0.20894563, 0.79105437],\n",
       "       [0.5070771 , 0.4929229 ],\n",
       "       [0.38863206, 0.61136794],\n",
       "       [0.79005385, 0.20994615],\n",
       "       [0.60352522, 0.39647478],\n",
       "       [0.81569345, 0.18430655],\n",
       "       [0.89952609, 0.10047391],\n",
       "       [0.12592764, 0.87407236],\n",
       "       [0.35935307, 0.64064693],\n",
       "       [0.3202282 , 0.6797718 ],\n",
       "       [0.73152488, 0.26847512],\n",
       "       [0.75850945, 0.24149055],\n",
       "       [0.83372818, 0.16627182],\n",
       "       [0.424396  , 0.575604  ],\n",
       "       [0.92666737, 0.07333263],\n",
       "       [0.32876849, 0.67123151],\n",
       "       [0.65619925, 0.34380075],\n",
       "       [0.10868522, 0.89131478],\n",
       "       [0.46047918, 0.53952082],\n",
       "       [0.07591225, 0.92408775],\n",
       "       [0.77665194, 0.22334806],\n",
       "       [0.92510382, 0.07489618],\n",
       "       [0.92490256, 0.07509744],\n",
       "       [0.2888359 , 0.7111641 ],\n",
       "       [0.33869692, 0.66130308],\n",
       "       [0.71409415, 0.28590585],\n",
       "       [0.16687454, 0.83312546],\n",
       "       [0.82847122, 0.17152878],\n",
       "       [0.74037225, 0.25962775],\n",
       "       [0.9881898 , 0.0118102 ],\n",
       "       [0.80626217, 0.19373783],\n",
       "       [0.15934472, 0.84065528],\n",
       "       [0.68649898, 0.31350102],\n",
       "       [0.82324321, 0.17675679],\n",
       "       [0.88332601, 0.11667399],\n",
       "       [0.07450469, 0.92549531],\n",
       "       [0.49503283, 0.50496717],\n",
       "       [0.38302425, 0.61697575],\n",
       "       [0.79849418, 0.20150582],\n",
       "       [0.15326192, 0.84673808],\n",
       "       [0.29645764, 0.70354236],\n",
       "       [0.172492  , 0.827508  ],\n",
       "       [0.17939013, 0.82060987],\n",
       "       [0.78731258, 0.21268742],\n",
       "       [0.98422236, 0.01577764],\n",
       "       [0.80538093, 0.19461907],\n",
       "       [0.27832869, 0.72167131],\n",
       "       [0.50909384, 0.49090616],\n",
       "       [0.89884054, 0.10115946],\n",
       "       [0.29060122, 0.70939878],\n",
       "       [0.43534772, 0.56465228],\n",
       "       [0.94045764, 0.05954236],\n",
       "       [0.35017805, 0.64982195],\n",
       "       [0.84460278, 0.15539722],\n",
       "       [0.88758815, 0.11241185],\n",
       "       [0.78983908, 0.21016092],\n",
       "       [0.71870649, 0.28129351],\n",
       "       [0.78087138, 0.21912862],\n",
       "       [0.10328874, 0.89671126],\n",
       "       [0.7298831 , 0.2701169 ],\n",
       "       [0.21431352, 0.78568648],\n",
       "       [0.72711078, 0.27288922],\n",
       "       [0.76682777, 0.23317223],\n",
       "       [0.37040414, 0.62959586],\n",
       "       [0.32501249, 0.67498751],\n",
       "       [0.22742826, 0.77257174],\n",
       "       [0.30294516, 0.69705484],\n",
       "       [0.46681238, 0.53318762],\n",
       "       [0.41348928, 0.58651072],\n",
       "       [0.75182593, 0.24817407],\n",
       "       [0.12000902, 0.87999098],\n",
       "       [0.21164297, 0.78835703],\n",
       "       [0.86310088, 0.13689912],\n",
       "       [0.98584645, 0.01415355],\n",
       "       [0.09212577, 0.90787423],\n",
       "       [0.29858211, 0.70141789],\n",
       "       [0.59650864, 0.40349136],\n",
       "       [0.46620754, 0.53379246],\n",
       "       [0.39097371, 0.60902629],\n",
       "       [0.15078619, 0.84921381],\n",
       "       [0.1508473 , 0.8491527 ],\n",
       "       [0.41711474, 0.58288526],\n",
       "       [0.72716258, 0.27283742],\n",
       "       [0.77047009, 0.22952991],\n",
       "       [0.85068594, 0.14931406],\n",
       "       [0.14997246, 0.85002754],\n",
       "       [0.56250004, 0.43749996],\n",
       "       [0.79849418, 0.20150582],\n",
       "       [0.62412174, 0.37587826],\n",
       "       [0.81669449, 0.18330551],\n",
       "       [0.89841706, 0.10158294],\n",
       "       [0.23796991, 0.76203009],\n",
       "       [0.71584317, 0.28415683],\n",
       "       [0.32473327, 0.67526673],\n",
       "       [0.8078584 , 0.1921416 ],\n",
       "       [0.68327896, 0.31672104],\n",
       "       [0.66283216, 0.33716784],\n",
       "       [0.7389304 , 0.2610696 ],\n",
       "       [0.50764964, 0.49235036],\n",
       "       [0.56398977, 0.43601023],\n",
       "       [0.70948392, 0.29051608],\n",
       "       [0.69235495, 0.30764505],\n",
       "       [0.49435189, 0.50564811]])"
      ]
     },
     "execution_count": 39,
     "metadata": {},
     "output_type": "execute_result"
    }
   ],
   "source": [
    "## Calculating the probablity of wach output\n",
    "\n",
    "predicted_proba = reg.predict_proba(x_test)\n",
    "predicted_proba"
   ]
  },
  {
   "cell_type": "markdown",
   "metadata": {},
   "source": [
    "Now the left side of the predicted_proba have the probablity when the output is zero (not absent) while the \n",
    "right side have probablity when the output is one (is absent) \n",
    "We are only interested in the prbablity of being absent therefore slice of the right side "
   ]
  },
  {
   "cell_type": "code",
   "execution_count": 40,
   "metadata": {},
   "outputs": [
    {
     "data": {
      "text/plain": [
       "array([0.25853843, 0.4554599 , 0.61383876, 0.1839993 , 0.93870812,\n",
       "       0.68703805, 0.68148577, 0.92779186, 0.16874473, 0.23899856,\n",
       "       0.51853159, 0.82021085, 0.95123085, 0.26785856, 0.86918637,\n",
       "       0.40376613, 0.45014346, 0.41787645, 0.76822711, 0.96925836,\n",
       "       0.27184088, 0.19260115, 0.60511937, 0.57792678, 0.78154275,\n",
       "       0.20957596, 0.54436751, 0.11125114, 0.85940352, 0.20150582,\n",
       "       0.43057003, 0.6625198 , 0.69413143, 0.54581699, 0.19260115,\n",
       "       0.49229685, 0.17750735, 0.79105437, 0.4929229 , 0.61136794,\n",
       "       0.20994615, 0.39647478, 0.18430655, 0.10047391, 0.87407236,\n",
       "       0.64064693, 0.6797718 , 0.26847512, 0.24149055, 0.16627182,\n",
       "       0.575604  , 0.07333263, 0.67123151, 0.34380075, 0.89131478,\n",
       "       0.53952082, 0.92408775, 0.22334806, 0.07489618, 0.07509744,\n",
       "       0.7111641 , 0.66130308, 0.28590585, 0.83312546, 0.17152878,\n",
       "       0.25962775, 0.0118102 , 0.19373783, 0.84065528, 0.31350102,\n",
       "       0.17675679, 0.11667399, 0.92549531, 0.50496717, 0.61697575,\n",
       "       0.20150582, 0.84673808, 0.70354236, 0.827508  , 0.82060987,\n",
       "       0.21268742, 0.01577764, 0.19461907, 0.72167131, 0.49090616,\n",
       "       0.10115946, 0.70939878, 0.56465228, 0.05954236, 0.64982195,\n",
       "       0.15539722, 0.11241185, 0.21016092, 0.28129351, 0.21912862,\n",
       "       0.89671126, 0.2701169 , 0.78568648, 0.27288922, 0.23317223,\n",
       "       0.62959586, 0.67498751, 0.77257174, 0.69705484, 0.53318762,\n",
       "       0.58651072, 0.24817407, 0.87999098, 0.78835703, 0.13689912,\n",
       "       0.01415355, 0.90787423, 0.70141789, 0.40349136, 0.53379246,\n",
       "       0.60902629, 0.84921381, 0.8491527 , 0.58288526, 0.27283742,\n",
       "       0.22952991, 0.14931406, 0.85002754, 0.43749996, 0.20150582,\n",
       "       0.37587826, 0.18330551, 0.10158294, 0.76203009, 0.28415683,\n",
       "       0.67526673, 0.1921416 , 0.31672104, 0.33716784, 0.2610696 ,\n",
       "       0.49235036, 0.43601023, 0.29051608, 0.30764505, 0.50564811])"
      ]
     },
     "execution_count": 40,
     "metadata": {},
     "output_type": "execute_result"
    }
   ],
   "source": [
    "predicted_proba[:,1]"
   ]
  },
  {
   "cell_type": "markdown",
   "metadata": {},
   "source": [
    "## Save the model"
   ]
  },
  {
   "cell_type": "markdown",
   "metadata": {},
   "source": [
    "We will save the model (i.e the reg object) using the pickle module\n",
    "\n",
    "Pickle module is used to convert the python object into a character stream\n",
    "\n",
    "In simple terms we will save the reg variable into a file and this file we will load into the new notebook and thus \n",
    "\n",
    "we will be able to use the machine algorithm"
   ]
  },
  {
   "cell_type": "code",
   "execution_count": 41,
   "metadata": {},
   "outputs": [],
   "source": [
    "import pickle \n",
    "\n",
    "with open ('model','wb') as file:\n",
    "    pickle.dump(reg,file)\n",
    "    \n",
    "## In the same way we can save the scaler information also as it can be used to scale new data\n",
    "\n",
    "with open ('scaler','wb') as file:\n",
    "    pickle.dump(scaler,file)"
   ]
  },
  {
   "cell_type": "markdown",
   "metadata": {},
   "source": [
    "\n",
    "\n",
    "## USING TENSORFLOW TO DEPLOY MACHINE LEARNING MODEL \n",
    "\n"
   ]
  },
  {
   "cell_type": "code",
   "execution_count": 52,
   "metadata": {},
   "outputs": [],
   "source": [
    "## splitting the x_train and y_train into further train and validation data to perform machine learning model\n",
    "\n",
    "x_train_2 , x_validation, y_train_2, y_validation = train_test_split(x_train, y_train, random_state=360, test_size=0.1)"
   ]
  },
  {
   "cell_type": "code",
   "execution_count": 53,
   "metadata": {},
   "outputs": [],
   "source": [
    "## Creating the Model\n",
    "\n",
    "input_size = 13\n",
    "output_size = 2\n",
    "hidden_layer_size = 50 \n",
    "\n",
    "model_absent = tf.keras.Sequential([\n",
    "    tf.keras.layers.Dense(hidden_layer_size, activation='relu'),\n",
    "    tf.keras.layers.Dense(hidden_layer_size, activation='relu'),\n",
    "    tf.keras.layers.Dense(output_size, activation='softmax'),\n",
    "])"
   ]
  },
  {
   "cell_type": "markdown",
   "metadata": {},
   "source": [
    "Compiling the model"
   ]
  },
  {
   "cell_type": "code",
   "execution_count": 54,
   "metadata": {},
   "outputs": [],
   "source": [
    "model_absent.compile(optimizer='adam',loss='sparse_categorical_crossentropy',metrics=['accuracy'])"
   ]
  },
  {
   "cell_type": "markdown",
   "metadata": {},
   "source": [
    "To convert panda series to numpy array to fit the model"
   ]
  },
  {
   "cell_type": "code",
   "execution_count": 75,
   "metadata": {},
   "outputs": [],
   "source": [
    "y_train_2 = y_train_2.to_numpy()\n",
    "y_validation = y_validation.to_numpy()"
   ]
  },
  {
   "cell_type": "markdown",
   "metadata": {},
   "source": [
    "Fitting the model"
   ]
  },
  {
   "cell_type": "code",
   "execution_count": 85,
   "metadata": {},
   "outputs": [
    {
     "name": "stdout",
     "output_type": "stream",
     "text": [
      "Train on 504 samples, validate on 56 samples\n",
      "Epoch 1/10\n",
      "504/504 - 2s - loss: 0.3959 - accuracy: 0.8254 - val_loss: 0.0959 - val_accuracy: 0.8000\n",
      "Epoch 2/10\n",
      "504/504 - 2s - loss: 0.3803 - accuracy: 0.8373 - val_loss: 0.1011 - val_accuracy: 0.8000\n",
      "Epoch 3/10\n",
      "504/504 - 2s - loss: 0.3625 - accuracy: 0.8433 - val_loss: 0.0952 - val_accuracy: 0.8000\n",
      "Epoch 4/10\n",
      "504/504 - 2s - loss: 0.3529 - accuracy: 0.8353 - val_loss: 0.0908 - val_accuracy: 0.8000\n",
      "Epoch 5/10\n",
      "504/504 - 2s - loss: 0.3402 - accuracy: 0.8353 - val_loss: 0.1178 - val_accuracy: 0.7000\n",
      "Epoch 6/10\n",
      "504/504 - 2s - loss: 0.3346 - accuracy: 0.8333 - val_loss: 0.1005 - val_accuracy: 0.8000\n"
     ]
    },
    {
     "data": {
      "text/plain": [
       "<tensorflow.python.keras.callbacks.History at 0x24e95de4c48>"
      ]
     },
     "execution_count": 85,
     "metadata": {},
     "output_type": "execute_result"
    }
   ],
   "source": [
    "batch_size = 1\n",
    "num_epochs = 10\n",
    "early_stopping = tf.keras.callbacks.EarlyStopping(patience=2)\n",
    "\n",
    "model_absent.fit(x_train_2,y_train_2,\n",
    "                batch_size = batch_size,\n",
    "                epochs = num_epochs,\n",
    "                callbacks = [early_stopping],\n",
    "                validation_data=(x_validation,y_validation),\n",
    "                verbose=2,\n",
    "                validation_steps=10)"
   ]
  },
  {
   "cell_type": "markdown",
   "metadata": {},
   "source": [
    "Testing the model"
   ]
  },
  {
   "cell_type": "code",
   "execution_count": 86,
   "metadata": {},
   "outputs": [
    {
     "name": "stdout",
     "output_type": "stream",
     "text": [
      "140/140 [==============================] - 0s 983us/sample - loss: 0.5695 - accuracy: 0.7500\n"
     ]
    }
   ],
   "source": [
    "test_loss, test_accuracy = model_absent.evaluate(x_test,y_test)"
   ]
  },
  {
   "cell_type": "code",
   "execution_count": 87,
   "metadata": {},
   "outputs": [
    {
     "name": "stdout",
     "output_type": "stream",
     "text": [
      "The loss is 0.57 and the accuracy of the model is 75.00\n"
     ]
    }
   ],
   "source": [
    "print(\"The loss is {0:.2f} and the accuracy of the model is {1:.2f}\".format(test_loss, test_accuracy*100))"
   ]
  }
 ],
 "metadata": {
  "kernelspec": {
   "display_name": "py3-TF2New",
   "language": "python",
   "name": "myenv"
  },
  "language_info": {
   "codemirror_mode": {
    "name": "ipython",
    "version": 3
   },
   "file_extension": ".py",
   "mimetype": "text/x-python",
   "name": "python",
   "nbconvert_exporter": "python",
   "pygments_lexer": "ipython3",
   "version": "3.7.7"
  }
 },
 "nbformat": 4,
 "nbformat_minor": 4
}
